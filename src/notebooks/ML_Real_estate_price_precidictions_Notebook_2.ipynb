{
 "cells": [
  {
   "cell_type": "markdown",
   "id": "11e3d40b",
   "metadata": {},
   "source": [
    "# Machine Learning Project: ML_Real estate price predictions"
   ]
  },
  {
   "cell_type": "markdown",
   "id": "b7df3862",
   "metadata": {},
   "source": [
    "## Predict Real Estate Prices using an API requested to Idealista"
   ]
  },
  {
   "cell_type": "code",
   "execution_count": null,
   "id": "c7d92e84",
   "metadata": {},
   "outputs": [],
   "source": [
    "'''\n",
    "Notebook_2:\n",
    "In the previous notebook_1 (ML Real_estate_price_predictions_Notebook_1), the dataset 'df total' was saved, so, we will work with it.\n",
    "'''"
   ]
  },
  {
   "cell_type": "code",
   "execution_count": null,
   "id": "e147c463",
   "metadata": {},
   "outputs": [],
   "source": [
    "'''\n",
    "By extracting data using the Idealista API, it will be possible to perform monthly searches and develop a model that allows for calculating \n",
    "updated property prices. The main objective is to analyze whether sales prices represent a favorable purchasing opportunity in **Asturias**. \n",
    "This will allow potential buyers to make more informed decisions in the real estate market.\n",
    "\n",
    "Search API lets you integrate property information published on idealista into your site or app.\n",
    "\n",
    "**https://developers.idealista.com/access-request**\n",
    "'''\n"
   ]
  },
  {
   "cell_type": "code",
   "execution_count": 32,
   "id": "5ea2f43b",
   "metadata": {},
   "outputs": [],
   "source": [
    "# Importing  -> Importando\n",
    "import pandas as pd\n",
    "import numpy as np\n",
    "import matplotlib.pyplot as plt\n",
    "import seaborn as sns\n",
    "import datetime\n",
    "from sklearn.model_selection import train_test_split"
   ]
  },
  {
   "cell_type": "markdown",
   "id": "cc1923b4",
   "metadata": {},
   "source": [
    "### 2. The function `data_report(df)` generates a comprehensive report on a DataFrame, offering valuable insights into its columns. This report serves as a crucial tool for our analysis, data cleaning, and overall understanding of the dataset, helping us make informed decisions as we work with the data."
   ]
  },
  {
   "cell_type": "code",
   "execution_count": 33,
   "id": "0fa63d0f",
   "metadata": {},
   "outputs": [],
   "source": [
    "def data_report(df):\n",
    "    '''Function generates a detailed report on a DataFrame'''\n",
    "    # Creating a DataFrame containing column names\n",
    "    cols = pd.DataFrame(df.columns.values, columns=[\"COL_N\"])\n",
    "\n",
    "    # Getting the data type of each column\n",
    "    types = pd.DataFrame(df.dtypes.values, columns=[\"DATA_TYPE\"])\n",
    "\n",
    "    # Missing values:\n",
    "    # Calculating the percentage of null values ​​(missing values) for each column\n",
    "    # percent_missing = round(df.isnull().sum() * 100 / len(df), 2)   --> (*)\n",
    "    percent_missing = round(df.isnull().mean() * 100, 2)              # changed to the line above (*). It's more concise and does the same thing\n",
    "    percent_missing_df = pd.DataFrame(percent_missing.values, columns=[\"MISSINGS (%)\"])\n",
    "    \n",
    "    # Counting the number of unique values ​​in each column\n",
    "    unicos = pd.DataFrame(df.nunique().values, columns=[\"UNIQUE_VALUES\"])\n",
    "    \n",
    "    # Calculating the cardinality percentage (proportion of unique values ​​relative to the total number of rows)\n",
    "    percent_cardin = round(unicos['UNIQUE_VALUES']*100/len(df), 2)\n",
    "    percent_cardin_df = pd.DataFrame(percent_cardin.values, columns=[\"CARDIN (%)\"])\n",
    "\n",
    "    # Concatenating the results\n",
    "    # concatenado = pd.concat([cols, types, percent_missing_df, unicos, percent_cardin_df], axis=1, sort=False)\n",
    "    concatenado = pd.concat([cols, types, percent_missing_df, unicos, percent_cardin_df], axis=1)   # 'sort=False' has been removed: this doesn't need to be specified. It doesn't affect the result in this case.\n",
    "\n",
    "    # Settig the column (COL_N) as an index of the resulting DataFrame\n",
    "    concatenado.set_index('COL_N', drop=True, inplace=True)\n",
    "\n",
    "    # Returning the resulting transposed DataFrame\n",
    "    return concatenado.T"
   ]
  },
  {
   "cell_type": "markdown",
   "id": "c06146d8",
   "metadata": {},
   "source": [
    "### 3. Working with the dataset 'df_total'"
   ]
  },
  {
   "cell_type": "code",
   "execution_count": 34,
   "id": "36ecb924",
   "metadata": {},
   "outputs": [
    {
     "data": {
      "text/html": [
       "<div>\n",
       "<style scoped>\n",
       "    .dataframe tbody tr th:only-of-type {\n",
       "        vertical-align: middle;\n",
       "    }\n",
       "\n",
       "    .dataframe tbody tr th {\n",
       "        vertical-align: top;\n",
       "    }\n",
       "\n",
       "    .dataframe thead th {\n",
       "        text-align: right;\n",
       "    }\n",
       "</style>\n",
       "<table border=\"1\" class=\"dataframe\">\n",
       "  <thead>\n",
       "    <tr style=\"text-align: right;\">\n",
       "      <th></th>\n",
       "      <th>Unnamed: 0</th>\n",
       "      <th>propertyCode</th>\n",
       "      <th>thumbnail</th>\n",
       "      <th>externalReference</th>\n",
       "      <th>numPhotos</th>\n",
       "      <th>price</th>\n",
       "      <th>priceInfo</th>\n",
       "      <th>propertyType</th>\n",
       "      <th>operation</th>\n",
       "      <th>size</th>\n",
       "      <th>...</th>\n",
       "      <th>savedAd</th>\n",
       "      <th>notes</th>\n",
       "      <th>topNewDevelopment</th>\n",
       "      <th>topPlus</th>\n",
       "      <th>floor</th>\n",
       "      <th>exterior</th>\n",
       "      <th>hasLift</th>\n",
       "      <th>parkingSpace</th>\n",
       "      <th>neighborhood</th>\n",
       "      <th>newDevelopmentFinished</th>\n",
       "    </tr>\n",
       "  </thead>\n",
       "  <tbody>\n",
       "    <tr>\n",
       "      <th>0</th>\n",
       "      <td>0</td>\n",
       "      <td>106100857</td>\n",
       "      <td>https://img4.idealista.com/blur/WEB_LISTING/0/...</td>\n",
       "      <td>REF_31176</td>\n",
       "      <td>36</td>\n",
       "      <td>9500.0</td>\n",
       "      <td>{'price': {'amount': 9500.0, 'currencySuffix':...</td>\n",
       "      <td>chalet</td>\n",
       "      <td>sale</td>\n",
       "      <td>65.0</td>\n",
       "      <td>...</td>\n",
       "      <td>{}</td>\n",
       "      <td>[]</td>\n",
       "      <td>False</td>\n",
       "      <td>False</td>\n",
       "      <td>NaN</td>\n",
       "      <td>NaN</td>\n",
       "      <td>NaN</td>\n",
       "      <td>NaN</td>\n",
       "      <td>NaN</td>\n",
       "      <td>NaN</td>\n",
       "    </tr>\n",
       "    <tr>\n",
       "      <th>1</th>\n",
       "      <td>1</td>\n",
       "      <td>106567113</td>\n",
       "      <td>https://img4.idealista.com/blur/WEB_LISTING/90...</td>\n",
       "      <td>Myo</td>\n",
       "      <td>20</td>\n",
       "      <td>150000.0</td>\n",
       "      <td>{'price': {'amount': 150000.0, 'currencySuffix...</td>\n",
       "      <td>countryHouse</td>\n",
       "      <td>sale</td>\n",
       "      <td>290.0</td>\n",
       "      <td>...</td>\n",
       "      <td>{}</td>\n",
       "      <td>[]</td>\n",
       "      <td>False</td>\n",
       "      <td>False</td>\n",
       "      <td>NaN</td>\n",
       "      <td>NaN</td>\n",
       "      <td>NaN</td>\n",
       "      <td>NaN</td>\n",
       "      <td>NaN</td>\n",
       "      <td>NaN</td>\n",
       "    </tr>\n",
       "    <tr>\n",
       "      <th>2</th>\n",
       "      <td>2</td>\n",
       "      <td>97273645</td>\n",
       "      <td>https://img4.idealista.com/blur/WEB_LISTING/0/...</td>\n",
       "      <td>NaN</td>\n",
       "      <td>8</td>\n",
       "      <td>60000.0</td>\n",
       "      <td>{'price': {'amount': 60000.0, 'currencySuffix'...</td>\n",
       "      <td>flat</td>\n",
       "      <td>sale</td>\n",
       "      <td>283.0</td>\n",
       "      <td>...</td>\n",
       "      <td>{}</td>\n",
       "      <td>[]</td>\n",
       "      <td>False</td>\n",
       "      <td>False</td>\n",
       "      <td>en</td>\n",
       "      <td>True</td>\n",
       "      <td>False</td>\n",
       "      <td>NaN</td>\n",
       "      <td>NaN</td>\n",
       "      <td>NaN</td>\n",
       "    </tr>\n",
       "    <tr>\n",
       "      <th>3</th>\n",
       "      <td>3</td>\n",
       "      <td>106463395</td>\n",
       "      <td>https://img4.idealista.com/blur/WEB_LISTING/0/...</td>\n",
       "      <td>62659</td>\n",
       "      <td>4</td>\n",
       "      <td>35000.0</td>\n",
       "      <td>{'price': {'amount': 35000.0, 'currencySuffix'...</td>\n",
       "      <td>chalet</td>\n",
       "      <td>sale</td>\n",
       "      <td>537.0</td>\n",
       "      <td>...</td>\n",
       "      <td>{}</td>\n",
       "      <td>[]</td>\n",
       "      <td>False</td>\n",
       "      <td>False</td>\n",
       "      <td>NaN</td>\n",
       "      <td>NaN</td>\n",
       "      <td>NaN</td>\n",
       "      <td>NaN</td>\n",
       "      <td>NaN</td>\n",
       "      <td>NaN</td>\n",
       "    </tr>\n",
       "    <tr>\n",
       "      <th>4</th>\n",
       "      <td>4</td>\n",
       "      <td>100774492</td>\n",
       "      <td>https://img4.idealista.com/blur/WEB_LISTING/0/...</td>\n",
       "      <td>0050124471</td>\n",
       "      <td>1</td>\n",
       "      <td>64700.0</td>\n",
       "      <td>{'price': {'amount': 64700.0, 'currencySuffix'...</td>\n",
       "      <td>flat</td>\n",
       "      <td>sale</td>\n",
       "      <td>96.0</td>\n",
       "      <td>...</td>\n",
       "      <td>{}</td>\n",
       "      <td>[]</td>\n",
       "      <td>False</td>\n",
       "      <td>False</td>\n",
       "      <td>NaN</td>\n",
       "      <td>NaN</td>\n",
       "      <td>NaN</td>\n",
       "      <td>NaN</td>\n",
       "      <td>NaN</td>\n",
       "      <td>NaN</td>\n",
       "    </tr>\n",
       "  </tbody>\n",
       "</table>\n",
       "<p>5 rows × 45 columns</p>\n",
       "</div>"
      ],
      "text/plain": [
       "   Unnamed: 0  propertyCode  \\\n",
       "0           0     106100857   \n",
       "1           1     106567113   \n",
       "2           2      97273645   \n",
       "3           3     106463395   \n",
       "4           4     100774492   \n",
       "\n",
       "                                           thumbnail externalReference  \\\n",
       "0  https://img4.idealista.com/blur/WEB_LISTING/0/...         REF_31176   \n",
       "1  https://img4.idealista.com/blur/WEB_LISTING/90...               Myo   \n",
       "2  https://img4.idealista.com/blur/WEB_LISTING/0/...               NaN   \n",
       "3  https://img4.idealista.com/blur/WEB_LISTING/0/...             62659   \n",
       "4  https://img4.idealista.com/blur/WEB_LISTING/0/...        0050124471   \n",
       "\n",
       "   numPhotos     price                                          priceInfo  \\\n",
       "0         36    9500.0  {'price': {'amount': 9500.0, 'currencySuffix':...   \n",
       "1         20  150000.0  {'price': {'amount': 150000.0, 'currencySuffix...   \n",
       "2          8   60000.0  {'price': {'amount': 60000.0, 'currencySuffix'...   \n",
       "3          4   35000.0  {'price': {'amount': 35000.0, 'currencySuffix'...   \n",
       "4          1   64700.0  {'price': {'amount': 64700.0, 'currencySuffix'...   \n",
       "\n",
       "   propertyType operation   size  ...  savedAd  notes topNewDevelopment  \\\n",
       "0        chalet      sale   65.0  ...       {}     []             False   \n",
       "1  countryHouse      sale  290.0  ...       {}     []             False   \n",
       "2          flat      sale  283.0  ...       {}     []             False   \n",
       "3        chalet      sale  537.0  ...       {}     []             False   \n",
       "4          flat      sale   96.0  ...       {}     []             False   \n",
       "\n",
       "  topPlus floor exterior hasLift  parkingSpace  neighborhood  \\\n",
       "0   False   NaN      NaN     NaN           NaN           NaN   \n",
       "1   False   NaN      NaN     NaN           NaN           NaN   \n",
       "2   False    en     True   False           NaN           NaN   \n",
       "3   False   NaN      NaN     NaN           NaN           NaN   \n",
       "4   False   NaN      NaN     NaN           NaN           NaN   \n",
       "\n",
       "   newDevelopmentFinished  \n",
       "0                     NaN  \n",
       "1                     NaN  \n",
       "2                     NaN  \n",
       "3                     NaN  \n",
       "4                     NaN  \n",
       "\n",
       "[5 rows x 45 columns]"
      ]
     },
     "execution_count": 34,
     "metadata": {},
     "output_type": "execute_result"
    }
   ],
   "source": [
    "# Accessing the dataset  ->  Accediendo al dataset\n",
    "df_total = pd.read_csv('C:/Users/argpe/REPO_PRUEBA_2/ML_Real_estate_price_predictions/src/data_sample/idealista_astur.csv')\n",
    "df_total.head()"
   ]
  },
  {
   "cell_type": "code",
   "execution_count": 35,
   "id": "36f5414d",
   "metadata": {},
   "outputs": [
    {
     "data": {
      "text/plain": [
       "(4650, 45)"
      ]
     },
     "execution_count": 35,
     "metadata": {},
     "output_type": "execute_result"
    }
   ],
   "source": [
    "df_total.shape"
   ]
  },
  {
   "cell_type": "code",
   "execution_count": 36,
   "id": "a9305746",
   "metadata": {},
   "outputs": [
    {
     "data": {
      "text/plain": [
       "45"
      ]
     },
     "execution_count": 36,
     "metadata": {},
     "output_type": "execute_result"
    }
   ],
   "source": [
    "len(df_total.columns)"
   ]
  },
  {
   "cell_type": "code",
   "execution_count": 37,
   "id": "34c85156",
   "metadata": {},
   "outputs": [
    {
     "data": {
      "text/plain": [
       "Index(['Unnamed: 0', 'propertyCode', 'thumbnail', 'externalReference',\n",
       "       'numPhotos', 'price', 'priceInfo', 'propertyType', 'operation', 'size',\n",
       "       'rooms', 'bathrooms', 'address', 'province', 'municipality', 'district',\n",
       "       'country', 'latitude', 'longitude', 'showAddress', 'url', 'distance',\n",
       "       'description', 'hasVideo', 'status', 'newDevelopment', 'priceByArea',\n",
       "       'change', 'detailedType', 'suggestedTexts', 'hasPlan', 'has3DTour',\n",
       "       'has360', 'hasStaging', 'highlight', 'savedAd', 'notes',\n",
       "       'topNewDevelopment', 'topPlus', 'floor', 'exterior', 'hasLift',\n",
       "       'parkingSpace', 'neighborhood', 'newDevelopmentFinished'],\n",
       "      dtype='object')"
      ]
     },
     "execution_count": 37,
     "metadata": {},
     "output_type": "execute_result"
    }
   ],
   "source": [
    "df_total.columns"
   ]
  },
  {
   "cell_type": "code",
   "execution_count": 38,
   "id": "c104c055",
   "metadata": {},
   "outputs": [
    {
     "data": {
      "text/plain": [
       "(1040, 45)"
      ]
     },
     "execution_count": 38,
     "metadata": {},
     "output_type": "execute_result"
    }
   ],
   "source": [
    "# Obtaining the number of apartments in Asturias (equal to 1040)  -> Obteniendo el número de apartamentos en Asturias (igual a 1040)\n",
    "apartments_asturias = df_total.loc[df_total.province == 'Asturias'] \n",
    "apartments_asturias.shape"
   ]
  },
  {
   "cell_type": "code",
   "execution_count": 39,
   "id": "af4a197b",
   "metadata": {},
   "outputs": [
    {
     "name": "stdout",
     "output_type": "stream",
     "text": [
      "<class 'pandas.core.frame.DataFrame'>\n",
      "RangeIndex: 4650 entries, 0 to 4649\n",
      "Data columns (total 45 columns):\n",
      " #   Column                  Non-Null Count  Dtype  \n",
      "---  ------                  --------------  -----  \n",
      " 0   Unnamed: 0              4650 non-null   int64  \n",
      " 1   propertyCode            4650 non-null   int64  \n",
      " 2   thumbnail               4646 non-null   object \n",
      " 3   externalReference       3977 non-null   object \n",
      " 4   numPhotos               4650 non-null   int64  \n",
      " 5   price                   4650 non-null   float64\n",
      " 6   priceInfo               4650 non-null   object \n",
      " 7   propertyType            4650 non-null   object \n",
      " 8   operation               4650 non-null   object \n",
      " 9   size                    4650 non-null   float64\n",
      " 10  rooms                   4650 non-null   int64  \n",
      " 11  bathrooms               4650 non-null   int64  \n",
      " 12  address                 4650 non-null   object \n",
      " 13  province                4650 non-null   object \n",
      " 14  municipality            4650 non-null   object \n",
      " 15  district                3179 non-null   object \n",
      " 16  country                 4650 non-null   object \n",
      " 17  latitude                4650 non-null   float64\n",
      " 18  longitude               4650 non-null   float64\n",
      " 19  showAddress             4650 non-null   bool   \n",
      " 20  url                     4650 non-null   object \n",
      " 21  distance                4650 non-null   int64  \n",
      " 22  description             4646 non-null   object \n",
      " 23  hasVideo                4650 non-null   bool   \n",
      " 24  status                  4641 non-null   object \n",
      " 25  newDevelopment          4650 non-null   bool   \n",
      " 26  priceByArea             4650 non-null   float64\n",
      " 27  change                  4650 non-null   object \n",
      " 28  detailedType            4650 non-null   object \n",
      " 29  suggestedTexts          4650 non-null   object \n",
      " 30  hasPlan                 4650 non-null   bool   \n",
      " 31  has3DTour               4650 non-null   bool   \n",
      " 32  has360                  4650 non-null   bool   \n",
      " 33  hasStaging              4650 non-null   bool   \n",
      " 34  highlight               3110 non-null   object \n",
      " 35  savedAd                 4650 non-null   object \n",
      " 36  notes                   4650 non-null   object \n",
      " 37  topNewDevelopment       4650 non-null   bool   \n",
      " 38  topPlus                 4650 non-null   bool   \n",
      " 39  floor                   2805 non-null   object \n",
      " 40  exterior                2741 non-null   object \n",
      " 41  hasLift                 2853 non-null   object \n",
      " 42  parkingSpace            2309 non-null   object \n",
      " 43  neighborhood            977 non-null    object \n",
      " 44  newDevelopmentFinished  88 non-null     object \n",
      "dtypes: bool(9), float64(5), int64(6), object(25)\n",
      "memory usage: 1.3+ MB\n"
     ]
    }
   ],
   "source": [
    "# Visualizing the data frame  -> Visualización del marco de datos\n",
    "df_total.info()"
   ]
  },
  {
   "cell_type": "code",
   "execution_count": 40,
   "id": "e0c233e6",
   "metadata": {},
   "outputs": [
    {
     "data": {
      "text/plain": [
       "Unnamed: 0                  int64\n",
       "propertyCode                int64\n",
       "thumbnail                  object\n",
       "externalReference          object\n",
       "numPhotos                   int64\n",
       "price                     float64\n",
       "priceInfo                  object\n",
       "propertyType               object\n",
       "operation                  object\n",
       "size                      float64\n",
       "rooms                       int64\n",
       "bathrooms                   int64\n",
       "address                    object\n",
       "province                   object\n",
       "municipality               object\n",
       "district                   object\n",
       "country                    object\n",
       "latitude                  float64\n",
       "longitude                 float64\n",
       "showAddress                  bool\n",
       "url                        object\n",
       "distance                    int64\n",
       "description                object\n",
       "hasVideo                     bool\n",
       "status                     object\n",
       "newDevelopment               bool\n",
       "priceByArea               float64\n",
       "change                     object\n",
       "detailedType               object\n",
       "suggestedTexts             object\n",
       "hasPlan                      bool\n",
       "has3DTour                    bool\n",
       "has360                       bool\n",
       "hasStaging                   bool\n",
       "highlight                  object\n",
       "savedAd                    object\n",
       "notes                      object\n",
       "topNewDevelopment            bool\n",
       "topPlus                      bool\n",
       "floor                      object\n",
       "exterior                   object\n",
       "hasLift                    object\n",
       "parkingSpace               object\n",
       "neighborhood               object\n",
       "newDevelopmentFinished     object\n",
       "dtype: object"
      ]
     },
     "execution_count": 40,
     "metadata": {},
     "output_type": "execute_result"
    }
   ],
   "source": [
    "# Getting the data types  -> Obteniendo los tipos de datos\n",
    "data_types = df_total.dtypes\n",
    "data_types"
   ]
  },
  {
   "cell_type": "code",
   "execution_count": 41,
   "id": "479738f9",
   "metadata": {},
   "outputs": [
    {
     "data": {
      "text/plain": [
       "Unnamed: 0                 0.000000\n",
       "propertyCode               0.000000\n",
       "thumbnail                  0.086022\n",
       "externalReference         14.473118\n",
       "numPhotos                  0.000000\n",
       "price                      0.000000\n",
       "priceInfo                  0.000000\n",
       "propertyType               0.000000\n",
       "operation                  0.000000\n",
       "size                       0.000000\n",
       "rooms                      0.000000\n",
       "bathrooms                  0.000000\n",
       "address                    0.000000\n",
       "province                   0.000000\n",
       "municipality               0.000000\n",
       "district                  31.634409\n",
       "country                    0.000000\n",
       "latitude                   0.000000\n",
       "longitude                  0.000000\n",
       "showAddress                0.000000\n",
       "url                        0.000000\n",
       "distance                   0.000000\n",
       "description                0.086022\n",
       "hasVideo                   0.000000\n",
       "status                     0.193548\n",
       "newDevelopment             0.000000\n",
       "priceByArea                0.000000\n",
       "change                     0.000000\n",
       "detailedType               0.000000\n",
       "suggestedTexts             0.000000\n",
       "hasPlan                    0.000000\n",
       "has3DTour                  0.000000\n",
       "has360                     0.000000\n",
       "hasStaging                 0.000000\n",
       "highlight                 33.118280\n",
       "savedAd                    0.000000\n",
       "notes                      0.000000\n",
       "topNewDevelopment          0.000000\n",
       "topPlus                    0.000000\n",
       "floor                     39.677419\n",
       "exterior                  41.053763\n",
       "hasLift                   38.645161\n",
       "parkingSpace              50.344086\n",
       "neighborhood              78.989247\n",
       "newDevelopmentFinished    98.107527\n",
       "dtype: float64"
      ]
     },
     "execution_count": 41,
     "metadata": {},
     "output_type": "execute_result"
    }
   ],
   "source": [
    "# Calculating the percentage of missing values  -> Calculando el porcentaje de valores faltantes\n",
    "missing_values = df_total.isnull().mean() * 100\n",
    "missing_values"
   ]
  },
  {
   "cell_type": "code",
   "execution_count": 43,
   "id": "80b670f5",
   "metadata": {},
   "outputs": [
    {
     "data": {
      "text/plain": [
       "Unnamed: 0                  50\n",
       "propertyCode              4507\n",
       "thumbnail                 4495\n",
       "externalReference         3732\n",
       "numPhotos                  137\n",
       "price                      882\n",
       "priceInfo                 1982\n",
       "propertyType                 6\n",
       "operation                    1\n",
       "size                       569\n",
       "rooms                       19\n",
       "bathrooms                   18\n",
       "address                   3420\n",
       "province                    14\n",
       "municipality               528\n",
       "district                   320\n",
       "country                      1\n",
       "latitude                  4429\n",
       "longitude                 4429\n",
       "showAddress                  2\n",
       "url                       4507\n",
       "distance                  4271\n",
       "description               4444\n",
       "hasVideo                     2\n",
       "status                       3\n",
       "newDevelopment               2\n",
       "priceByArea               2516\n",
       "change                       1\n",
       "detailedType                16\n",
       "suggestedTexts            3759\n",
       "hasPlan                      2\n",
       "has3DTour                    2\n",
       "has360                       2\n",
       "hasStaging                   2\n",
       "highlight                    3\n",
       "savedAd                      1\n",
       "notes                        1\n",
       "topNewDevelopment            1\n",
       "topPlus                      2\n",
       "floor                       19\n",
       "exterior                     2\n",
       "hasLift                      2\n",
       "parkingSpace                42\n",
       "neighborhood               124\n",
       "newDevelopmentFinished       2\n",
       "dtype: int64"
      ]
     },
     "execution_count": 43,
     "metadata": {},
     "output_type": "execute_result"
    }
   ],
   "source": [
    "# Getting the number of unique values -> Obteniendo el número de valores únicos\n",
    "unique_values = df_total.nunique()\n",
    "unique_values"
   ]
  },
  {
   "cell_type": "markdown",
   "id": "d4752317",
   "metadata": {},
   "source": [
    "### 4. SPLIT TRAIN/TEST\n",
    "- Splitting training and test sets (80-20%). Obtaining a table of average costs per square meter by district, and generating a bar chart and compare prices per square meter (m2) across the different districts of Asturias.\n",
    "\n",
    "- Separación de los conjuntos de entrenamiento y prueba (80-20%). Se obtiene una tabla de costes medios por metro cuadrado por distrito, se genera un gráfico de barras y se comparan los precios por metro cuadrado (m²) en los diferentes distritos de Asturias.\n"
   ]
  },
  {
   "cell_type": "code",
   "execution_count": null,
   "id": "0ae1819f",
   "metadata": {},
   "outputs": [
    {
     "data": {
      "text/plain": [
       "(1040, 45)"
      ]
     },
     "execution_count": 44,
     "metadata": {},
     "output_type": "execute_result"
    }
   ],
   "source": [
    "'''\n",
    "The apartment number in Asturias is 1040.\n",
    "El número de apartamento en Asturias es de 1040\n",
    "\n",
    "# apartments_asturias = df_total.loc[df_total.province == 'Asturias'] \n",
    "# apartments_asturias.shape'\n",
    "'''"
   ]
  },
  {
   "cell_type": "code",
   "execution_count": 45,
   "id": "9f14998f",
   "metadata": {},
   "outputs": [],
   "source": [
    "# Splitting training and test sets (80-20%)  -> División de conjuntos de entrenamiento y prueba (80-20%)\n",
    "X_train, X_test, y_train, y_test = train_test_split(apartments_asturias.drop('price', axis=1),\n",
    "                                                    apartments_asturias['price'],\n",
    "                                                    test_size=0.2,\n",
    "                                                    random_state=42)"
   ]
  },
  {
   "cell_type": "code",
   "execution_count": 47,
   "id": "8ed09fb1",
   "metadata": {},
   "outputs": [
    {
     "name": "stdout",
     "output_type": "stream",
     "text": [
      "(832, 44)\n",
      "(832,)\n",
      "(208, 44)\n",
      "(208,)\n"
     ]
    }
   ],
   "source": [
    "print(X_train.shape)\n",
    "print(y_train.shape)\n",
    "print(X_test.shape)\n",
    "print(y_test.shape)"
   ]
  },
  {
   "cell_type": "code",
   "execution_count": 48,
   "id": "7f37b49e",
   "metadata": {},
   "outputs": [
    {
     "data": {
      "text/html": [
       "<div>\n",
       "<style scoped>\n",
       "    .dataframe tbody tr th:only-of-type {\n",
       "        vertical-align: middle;\n",
       "    }\n",
       "\n",
       "    .dataframe tbody tr th {\n",
       "        vertical-align: top;\n",
       "    }\n",
       "\n",
       "    .dataframe thead th {\n",
       "        text-align: right;\n",
       "    }\n",
       "</style>\n",
       "<table border=\"1\" class=\"dataframe\">\n",
       "  <thead>\n",
       "    <tr style=\"text-align: right;\">\n",
       "      <th></th>\n",
       "      <th>priceByArea</th>\n",
       "    </tr>\n",
       "    <tr>\n",
       "      <th>district</th>\n",
       "      <th></th>\n",
       "    </tr>\n",
       "  </thead>\n",
       "  <tbody>\n",
       "    <tr>\n",
       "      <th>La Villa - Bazuelo</th>\n",
       "      <td>223.000000</td>\n",
       "    </tr>\n",
       "    <tr>\n",
       "      <th>Ujo - Cenera</th>\n",
       "      <td>313.000000</td>\n",
       "    </tr>\n",
       "    <tr>\n",
       "      <th>Sta.Marina - Polígono</th>\n",
       "      <td>430.000000</td>\n",
       "    </tr>\n",
       "    <tr>\n",
       "      <th>Llaranes</th>\n",
       "      <td>526.500000</td>\n",
       "    </tr>\n",
       "    <tr>\n",
       "      <th>San Pedro - Siana</th>\n",
       "      <td>533.571429</td>\n",
       "    </tr>\n",
       "    <tr>\n",
       "      <th>Carbayin-Lieres-Valdesoto</th>\n",
       "      <td>743.333333</td>\n",
       "    </tr>\n",
       "    <tr>\n",
       "      <th>Parroquias surorientales</th>\n",
       "      <td>773.600000</td>\n",
       "    </tr>\n",
       "    <tr>\n",
       "      <th>Figaredo - Turón</th>\n",
       "      <td>785.000000</td>\n",
       "    </tr>\n",
       "    <tr>\n",
       "      <th>Sama</th>\n",
       "      <td>818.500000</td>\n",
       "    </tr>\n",
       "    <tr>\n",
       "      <th>Requejo - Rozaes - Oñón</th>\n",
       "      <td>887.000000</td>\n",
       "    </tr>\n",
       "    <tr>\n",
       "      <th>San Claudio-Trubia-Las Caldas</th>\n",
       "      <td>962.000000</td>\n",
       "    </tr>\n",
       "    <tr>\n",
       "      <th>El Pozón - Villalegre - La Luz</th>\n",
       "      <td>1044.000000</td>\n",
       "    </tr>\n",
       "    <tr>\n",
       "      <th>La Felguera</th>\n",
       "      <td>1053.500000</td>\n",
       "    </tr>\n",
       "    <tr>\n",
       "      <th>Parroquias Norte-Naranco</th>\n",
       "      <td>1287.200000</td>\n",
       "    </tr>\n",
       "    <tr>\n",
       "      <th>El Berrón-La Carrera</th>\n",
       "      <td>1348.285714</td>\n",
       "    </tr>\n",
       "    <tr>\n",
       "      <th>Villaviciosa</th>\n",
       "      <td>1363.000000</td>\n",
       "    </tr>\n",
       "    <tr>\n",
       "      <th>Lugones</th>\n",
       "      <td>1372.000000</td>\n",
       "    </tr>\n",
       "    <tr>\n",
       "      <th>Jardín de Cantos - El Nodo</th>\n",
       "      <td>1388.500000</td>\n",
       "    </tr>\n",
       "    <tr>\n",
       "      <th>Vibaña-Ardisana-Caldueño</th>\n",
       "      <td>1405.200000</td>\n",
       "    </tr>\n",
       "    <tr>\n",
       "      <th>Periurbano</th>\n",
       "      <td>1414.363636</td>\n",
       "    </tr>\n",
       "    <tr>\n",
       "      <th>La Manjoya-Parroquias Sur</th>\n",
       "      <td>1448.312500</td>\n",
       "    </tr>\n",
       "    <tr>\n",
       "      <th>Fozaneldi-Tenderina-Ventanielles</th>\n",
       "      <td>1503.615385</td>\n",
       "    </tr>\n",
       "    <tr>\n",
       "      <th>Bocines - Nembro - Cardo</th>\n",
       "      <td>1513.142857</td>\n",
       "    </tr>\n",
       "    <tr>\n",
       "      <th>La Pola Siero</th>\n",
       "      <td>1555.000000</td>\n",
       "    </tr>\n",
       "    <tr>\n",
       "      <th>Quintes - Arroes</th>\n",
       "      <td>1617.833333</td>\n",
       "    </tr>\n",
       "    <tr>\n",
       "      <th>Amandi</th>\n",
       "      <td>1649.000000</td>\n",
       "    </tr>\n",
       "    <tr>\n",
       "      <th>Parroquias suroccidentales</th>\n",
       "      <td>1678.000000</td>\n",
       "    </tr>\n",
       "    <tr>\n",
       "      <th>San Justo - Bedriñana</th>\n",
       "      <td>1679.000000</td>\n",
       "    </tr>\n",
       "    <tr>\n",
       "      <th>Vidiago-Pendueles-Tresgrandas</th>\n",
       "      <td>1689.000000</td>\n",
       "    </tr>\n",
       "    <tr>\n",
       "      <th>Pillarno</th>\n",
       "      <td>1714.000000</td>\n",
       "    </tr>\n",
       "    <tr>\n",
       "      <th>La Magdalena</th>\n",
       "      <td>1724.500000</td>\n",
       "    </tr>\n",
       "    <tr>\n",
       "      <th>Piedras Blancas</th>\n",
       "      <td>1730.000000</td>\n",
       "    </tr>\n",
       "    <tr>\n",
       "      <th>Selorio - Tornón</th>\n",
       "      <td>1760.666667</td>\n",
       "    </tr>\n",
       "    <tr>\n",
       "      <th>Viella-Granda-Meres</th>\n",
       "      <td>1782.000000</td>\n",
       "    </tr>\n",
       "    <tr>\n",
       "      <th>El Carbayedo - El Quirinal</th>\n",
       "      <td>1843.222222</td>\n",
       "    </tr>\n",
       "    <tr>\n",
       "      <th>Verdicio - Bañugues - Cabo Peña</th>\n",
       "      <td>1882.000000</td>\n",
       "    </tr>\n",
       "    <tr>\n",
       "      <th>Parroquias Norte</th>\n",
       "      <td>1917.285714</td>\n",
       "    </tr>\n",
       "    <tr>\n",
       "      <th>Corredoria-Huca-Teatinos</th>\n",
       "      <td>2089.971429</td>\n",
       "    </tr>\n",
       "    <tr>\n",
       "      <th>El Llano</th>\n",
       "      <td>2103.692308</td>\n",
       "    </tr>\n",
       "    <tr>\n",
       "      <th>Oeste</th>\n",
       "      <td>2118.550000</td>\n",
       "    </tr>\n",
       "    <tr>\n",
       "      <th>Buenavista-Ería-Montecerrao</th>\n",
       "      <td>2142.066667</td>\n",
       "    </tr>\n",
       "    <tr>\n",
       "      <th>La Fresneda</th>\n",
       "      <td>2146.000000</td>\n",
       "    </tr>\n",
       "    <tr>\n",
       "      <th>Pría-Nueva-Hontoria-Naves</th>\n",
       "      <td>2151.125000</td>\n",
       "    </tr>\n",
       "    <tr>\n",
       "      <th>Posada-Barro</th>\n",
       "      <td>2338.555556</td>\n",
       "    </tr>\n",
       "    <tr>\n",
       "      <th>Ciudad Naranco-Vallobín-La Florida</th>\n",
       "      <td>2378.125000</td>\n",
       "    </tr>\n",
       "    <tr>\n",
       "      <th>San Lazaro-Otero-Villafría</th>\n",
       "      <td>2405.333333</td>\n",
       "    </tr>\n",
       "    <tr>\n",
       "      <th>Sur</th>\n",
       "      <td>2407.615385</td>\n",
       "    </tr>\n",
       "    <tr>\n",
       "      <th>Cué-San Roque-Andrín</th>\n",
       "      <td>2411.000000</td>\n",
       "    </tr>\n",
       "    <tr>\n",
       "      <th>Celorio-Poó-Parres</th>\n",
       "      <td>2431.750000</td>\n",
       "    </tr>\n",
       "    <tr>\n",
       "      <th>Santa María del Mar - El Puerto</th>\n",
       "      <td>2500.000000</td>\n",
       "    </tr>\n",
       "    <tr>\n",
       "      <th>Somió - Cabueñes</th>\n",
       "      <td>2560.142857</td>\n",
       "    </tr>\n",
       "    <tr>\n",
       "      <th>Centro-Casco Histórico</th>\n",
       "      <td>2670.636364</td>\n",
       "    </tr>\n",
       "    <tr>\n",
       "      <th>Ciaño - Zona Rural</th>\n",
       "      <td>2721.000000</td>\n",
       "    </tr>\n",
       "    <tr>\n",
       "      <th>Centro</th>\n",
       "      <td>3030.941176</td>\n",
       "    </tr>\n",
       "    <tr>\n",
       "      <th>Salinas</th>\n",
       "      <td>3077.000000</td>\n",
       "    </tr>\n",
       "    <tr>\n",
       "      <th>Tazones - Argüero</th>\n",
       "      <td>3295.833333</td>\n",
       "    </tr>\n",
       "    <tr>\n",
       "      <th>Este</th>\n",
       "      <td>3426.457143</td>\n",
       "    </tr>\n",
       "    <tr>\n",
       "      <th>Llanes</th>\n",
       "      <td>3472.842105</td>\n",
       "    </tr>\n",
       "    <tr>\n",
       "      <th>Luanco - Aramar - Antromero</th>\n",
       "      <td>3786.000000</td>\n",
       "    </tr>\n",
       "  </tbody>\n",
       "</table>\n",
       "</div>"
      ],
      "text/plain": [
       "                                    priceByArea\n",
       "district                                       \n",
       "La Villa - Bazuelo                   223.000000\n",
       "Ujo - Cenera                         313.000000\n",
       "Sta.Marina - Polígono                430.000000\n",
       "Llaranes                             526.500000\n",
       "San Pedro - Siana                    533.571429\n",
       "Carbayin-Lieres-Valdesoto            743.333333\n",
       "Parroquias surorientales             773.600000\n",
       "Figaredo - Turón                     785.000000\n",
       "Sama                                 818.500000\n",
       "Requejo - Rozaes - Oñón              887.000000\n",
       "San Claudio-Trubia-Las Caldas        962.000000\n",
       "El Pozón - Villalegre - La Luz      1044.000000\n",
       "La Felguera                         1053.500000\n",
       "Parroquias Norte-Naranco            1287.200000\n",
       "El Berrón-La Carrera                1348.285714\n",
       "Villaviciosa                        1363.000000\n",
       "Lugones                             1372.000000\n",
       "Jardín de Cantos - El Nodo          1388.500000\n",
       "Vibaña-Ardisana-Caldueño            1405.200000\n",
       "Periurbano                          1414.363636\n",
       "La Manjoya-Parroquias Sur           1448.312500\n",
       "Fozaneldi-Tenderina-Ventanielles    1503.615385\n",
       "Bocines - Nembro - Cardo            1513.142857\n",
       "La Pola Siero                       1555.000000\n",
       "Quintes - Arroes                    1617.833333\n",
       "Amandi                              1649.000000\n",
       "Parroquias suroccidentales          1678.000000\n",
       "San Justo - Bedriñana               1679.000000\n",
       "Vidiago-Pendueles-Tresgrandas       1689.000000\n",
       "Pillarno                            1714.000000\n",
       "La Magdalena                        1724.500000\n",
       "Piedras Blancas                     1730.000000\n",
       "Selorio - Tornón                    1760.666667\n",
       "Viella-Granda-Meres                 1782.000000\n",
       "El Carbayedo - El Quirinal          1843.222222\n",
       "Verdicio - Bañugues - Cabo Peña     1882.000000\n",
       "Parroquias Norte                    1917.285714\n",
       "Corredoria-Huca-Teatinos            2089.971429\n",
       "El Llano                            2103.692308\n",
       "Oeste                               2118.550000\n",
       "Buenavista-Ería-Montecerrao         2142.066667\n",
       "La Fresneda                         2146.000000\n",
       "Pría-Nueva-Hontoria-Naves           2151.125000\n",
       "Posada-Barro                        2338.555556\n",
       "Ciudad Naranco-Vallobín-La Florida  2378.125000\n",
       "San Lazaro-Otero-Villafría          2405.333333\n",
       "Sur                                 2407.615385\n",
       "Cué-San Roque-Andrín                2411.000000\n",
       "Celorio-Poó-Parres                  2431.750000\n",
       "Santa María del Mar - El Puerto     2500.000000\n",
       "Somió - Cabueñes                    2560.142857\n",
       "Centro-Casco Histórico              2670.636364\n",
       "Ciaño - Zona Rural                  2721.000000\n",
       "Centro                              3030.941176\n",
       "Salinas                             3077.000000\n",
       "Tazones - Argüero                   3295.833333\n",
       "Este                                3426.457143\n",
       "Llanes                              3472.842105\n",
       "Luanco - Aramar - Antromero         3786.000000"
      ]
     },
     "execution_count": 48,
     "metadata": {},
     "output_type": "execute_result"
    }
   ],
   "source": [
    "# Obtaining a table of average costs per square meter by district  -> Obteniendo una tabla de costes medios por metro cuadrado por distrito\n",
    "# Using the train values\n",
    "value_m2 = X_train[['district','priceByArea']].groupby('district').mean().sort_values(by='priceByArea')\n",
    "value_m2"
   ]
  },
  {
   "cell_type": "code",
   "execution_count": null,
   "id": "e336f9a8",
   "metadata": {},
   "outputs": [
    {
     "name": "stderr",
     "output_type": "stream",
     "text": [
      "C:\\Users\\argpe\\AppData\\Local\\Temp\\ipykernel_14972\\1058464920.py:8: FutureWarning: \n",
      "\n",
      "Passing `palette` without assigning `hue` is deprecated and will be removed in v0.14.0. Assign the `y` variable to `hue` and set `legend=False` for the same effect.\n",
      "\n",
      "  sns.barplot(x=value_m2.priceByArea, y=value_m2.index, orient='h', palette='viridis')\n"
     ]
    },
    {
     "data": {
      "image/png": "[encoded data removed]",
      "text/plain": [
       "<Figure size 1200x900 with 1 Axes>"
      ]
     },
     "metadata": {},
     "output_type": "display_data"
    }
   ],
   "source": [
    "# Adjusting the size of the figure  ->  Ajustando el tamaño de la figura\n",
    "plt.figure(figsize=(12, 9))\n",
    "\n",
    "# Generating a horizontal bar chart  -> Generando un gráfico de barras horizontal\n",
    "sns.barplot(x=value_m2.priceByArea, y=value_m2.index, orient='h', palette='viridis')\n",
    "\n",
    "# # Adjusting the axes and adding titles and labels  -> Ajustando los ejes y agregando títulos y etiquetas\n",
    "plt.title('Price by Area', fontsize=16)    # Chart title   -> Título del gráfico\n",
    "plt.xlabel('Price by Area', fontsize=14)   # X-axis label  -> Etiqueta del eje X\n",
    "plt.ylabel('Index', fontsize=14)           # Y-axis label  -> Etiqueta del eje Y\n",
    "\n",
    "# Adjusting the spacing  -> Ajustando el espaciado\n",
    "plt.tight_layout()\n",
    "\n",
    "# Showing the chart  -> Mostrando el gráfico\n",
    "plt.show()\n"
   ]
  },
  {
   "cell_type": "markdown",
   "id": "81f878b5",
   "metadata": {},
   "source": [
    "### 5. miniEDA"
   ]
  },
  {
   "cell_type": "code",
   "execution_count": null,
   "id": "ea5c617f",
   "metadata": {},
   "outputs": [
    {
     "data": {
      "text/plain": [
       "\"\\nThe following columns are not used for analysis and do not influence the price\\n\\n- operation: Not required, refers to the sale operation.\\n- address, showaddress, distance: I will use the latitude and longitude.\\n- country: Not required, the analysis is performed in Spain.\\n- labels, newDevelopmentFinished: Many missing items.\\n- newDevelopment: Not required, has a 99.5% False result.\\n- municipality, province: Not required, always in Asturias.\\n- priceByArea: This is correlated with label ('price'/'size')\\n- description: Not necessary, has duplicate information, the information is in the 'detailedType' column\\n- suggestedTexts: Not necessary, has duplicate information, the information is in the 'detailedType' column\\n- topNewDevelopment: Not necessary, has 100% False\\n- superTopHighlight: Not necessary, has 100% False\\n\""
      ]
     },
     "execution_count": 37,
     "metadata": {},
     "output_type": "execute_result"
    }
   ],
   "source": [
    "# The following columns will not be necessary for the analysis, they do not influence the price\n",
    "# Las siguientes columnas no serán necesarias para el análisis, no influyen en el precio.\n",
    "'''\n",
    "- operation: Not necessary, refers to the sale operation.\n",
    "- country: Not necessary, the analysis is performed in Spain.\n",
    "- labels, newDevelopmentFinished: Not necessary, many missing items.\n",
    "- address, showaddress, distance: Not necessary, I will use the latitude and longitude.\n",
    "- newDevelopment: Not necessary, has a 99.5% False.\n",
    "- description: Not necessary, has duplicate information, the information is in the 'detailedType' column.\n",
    "- suggestedTexts: Not necessary, has duplicate information, the information is in the 'detailedType' column.\n",
    "- municipality, province: Not necessary, always in Asturias.\n",
    "- priceByArea: closely related to the columns ('price'/'size').\n",
    "- topNewDevelopment: Not necessary, has 100% False.\n",
    "- superTopHighlight: Not necessary, has 100% False.\n",
    "'''"
   ]
  },
  {
   "cell_type": "code",
   "execution_count": 50,
   "id": "892d7606",
   "metadata": {},
   "outputs": [],
   "source": [
    "info_idealista = ['Unnamed: 0', 'propertyCode', 'thumbnail', 'externalReference', 'numPhotos','url','hasPlan', 'has3DTour', 'has360', 'hasVideo','hasStaging']\n",
    "operation = ['operation']\n",
    "address = ['address', 'showAddress', 'distance','country']\n",
    "missings = ['labels', 'newDevelopmentFinished','neighborhood','newDevelopment','topNewDevelopment', 'superTopHighlight']\n",
    "asturias = ['municipality', 'province']\n",
    "correlacion = ['priceByArea']                       # It can be used for further analysis\n",
    "duplicated = ['suggestedTexts' ,'description']"
   ]
  },
  {
   "cell_type": "code",
   "execution_count": 51,
   "id": "963422f9",
   "metadata": {},
   "outputs": [],
   "source": [
    "delete_cols = info_idealista + operation + address + missings + asturias + correlacion + duplicated"
   ]
  },
  {
   "cell_type": "code",
   "execution_count": 62,
   "id": "417919ff",
   "metadata": {},
   "outputs": [
    {
     "name": "stdout",
     "output_type": "stream",
     "text": [
      "<class 'pandas.core.frame.DataFrame'>\n",
      "Index: 832 entries, 565 to 3920\n",
      "Data columns (total 44 columns):\n",
      " #   Column                  Non-Null Count  Dtype  \n",
      "---  ------                  --------------  -----  \n",
      " 0   Unnamed: 0              832 non-null    int64  \n",
      " 1   propertyCode            832 non-null    int64  \n",
      " 2   thumbnail               830 non-null    object \n",
      " 3   externalReference       754 non-null    object \n",
      " 4   numPhotos               832 non-null    int64  \n",
      " 5   priceInfo               832 non-null    object \n",
      " 6   propertyType            832 non-null    object \n",
      " 7   operation               832 non-null    object \n",
      " 8   size                    832 non-null    float64\n",
      " 9   rooms                   832 non-null    int64  \n",
      " 10  bathrooms               832 non-null    int64  \n",
      " 11  address                 832 non-null    object \n",
      " 12  province                832 non-null    object \n",
      " 13  municipality            832 non-null    object \n",
      " 14  district                645 non-null    object \n",
      " 15  country                 832 non-null    object \n",
      " 16  latitude                832 non-null    float64\n",
      " 17  longitude               832 non-null    float64\n",
      " 18  showAddress             832 non-null    bool   \n",
      " 19  url                     832 non-null    object \n",
      " 20  distance                832 non-null    int64  \n",
      " 21  description             832 non-null    object \n",
      " 22  hasVideo                832 non-null    bool   \n",
      " 23  status                  829 non-null    object \n",
      " 24  newDevelopment          832 non-null    bool   \n",
      " 25  priceByArea             832 non-null    float64\n",
      " 26  change                  832 non-null    object \n",
      " 27  detailedType            832 non-null    object \n",
      " 28  suggestedTexts          832 non-null    object \n",
      " 29  hasPlan                 832 non-null    bool   \n",
      " 30  has3DTour               832 non-null    bool   \n",
      " 31  has360                  832 non-null    bool   \n",
      " 32  hasStaging              832 non-null    bool   \n",
      " 33  highlight               660 non-null    object \n",
      " 34  savedAd                 832 non-null    object \n",
      " 35  notes                   832 non-null    object \n",
      " 36  topNewDevelopment       832 non-null    bool   \n",
      " 37  topPlus                 832 non-null    bool   \n",
      " 38  floor                   465 non-null    object \n",
      " 39  exterior                461 non-null    object \n",
      " 40  hasLift                 472 non-null    object \n",
      " 41  parkingSpace            392 non-null    object \n",
      " 42  neighborhood            383 non-null    object \n",
      " 43  newDevelopmentFinished  3 non-null      object \n",
      "dtypes: bool(9), float64(4), int64(6), object(25)\n",
      "memory usage: 241.3+ KB\n"
     ]
    }
   ],
   "source": [
    "# Visualizing X_train  -> Visualizando X_train\n",
    "X_train.info()"
   ]
  },
  {
   "cell_type": "code",
   "execution_count": 53,
   "id": "e26dc5e6",
   "metadata": {},
   "outputs": [
    {
     "data": {
      "text/plain": [
       "(832, 44)"
      ]
     },
     "execution_count": 53,
     "metadata": {},
     "output_type": "execute_result"
    }
   ],
   "source": [
    "X_train.shape"
   ]
  },
  {
   "cell_type": "code",
   "execution_count": null,
   "id": "8051e1a8",
   "metadata": {},
   "outputs": [],
   "source": [
    "'''\n",
    "Price and Outliers:\n",
    "Generating a horizontal box plot showing the distribution of prices in the \"price\" column of the y_train DataFrame, allowing the \n",
    "visualization of the median, quartiles, and any outliers in the data.\n",
    "\n",
    "Generando un diagrama de caja horizontal que muestra la distribución de los precios en la columna \"price\" del DataFrame y_train, permitiendo \n",
    "visualizar la mediana, los cuartiles y cualquier valor atípico en los datos.\n",
    "'''"
   ]
  },
  {
   "cell_type": "code",
   "execution_count": 55,
   "id": "cfba0d3d",
   "metadata": {},
   "outputs": [
    {
     "data": {
      "image/png": "[encoded data removed]",
      "text/plain": [
       "<Figure size 1500x200 with 1 Axes>"
      ]
     },
     "metadata": {},
     "output_type": "display_data"
    }
   ],
   "source": [
    "y_train.plot(kind=\"box\", y=\"price\",figsize=(15,2),vert=False); "
   ]
  },
  {
   "cell_type": "code",
   "execution_count": 63,
   "id": "37f4a32d",
   "metadata": {},
   "outputs": [
    {
     "data": {
      "text/plain": [
       "19"
      ]
     },
     "execution_count": 63,
     "metadata": {},
     "output_type": "execute_result"
    }
   ],
   "source": [
    "# Visualizing the number of outliers  -> Visualizando el número de outliers\n",
    "len(apartments_asturias.loc[apartments_asturias.price>1000000]) # There are 19 outliers, almost 2.3% of the sample (832)."
   ]
  },
  {
   "cell_type": "code",
   "execution_count": 67,
   "id": "63352a5d",
   "metadata": {},
   "outputs": [
    {
     "data": {
      "text/html": [
       "<div>\n",
       "<style scoped>\n",
       "    .dataframe tbody tr th:only-of-type {\n",
       "        vertical-align: middle;\n",
       "    }\n",
       "\n",
       "    .dataframe tbody tr th {\n",
       "        vertical-align: top;\n",
       "    }\n",
       "\n",
       "    .dataframe thead th {\n",
       "        text-align: right;\n",
       "    }\n",
       "</style>\n",
       "<table border=\"1\" class=\"dataframe\">\n",
       "  <thead>\n",
       "    <tr style=\"text-align: right;\">\n",
       "      <th></th>\n",
       "      <th>size</th>\n",
       "      <th>district</th>\n",
       "      <th>price</th>\n",
       "    </tr>\n",
       "  </thead>\n",
       "  <tbody>\n",
       "    <tr>\n",
       "      <th>2827</th>\n",
       "      <td>882.0</td>\n",
       "      <td>La Manjoya-Parroquias Sur</td>\n",
       "      <td>2950000.0</td>\n",
       "    </tr>\n",
       "  </tbody>\n",
       "</table>\n",
       "</div>"
      ],
      "text/plain": [
       "       size                   district      price\n",
       "2827  882.0  La Manjoya-Parroquias Sur  2950000.0"
      ]
     },
     "execution_count": 67,
     "metadata": {},
     "output_type": "execute_result"
    }
   ],
   "source": [
    "# Visualizing the most expensive outlier (La Manjoya-Parroquias Sur, Oviedo, Asturias)  -> Visualizando el outlier más caro (Oviedo, Asturias)\n",
    "apartments_asturias[['size','district','price']].loc[apartments_asturias.price>2900000] "
   ]
  },
  {
   "cell_type": "code",
   "execution_count": null,
   "id": "12085aa2",
   "metadata": {},
   "outputs": [],
   "source": [
    "'''\n",
    "We will work with some data preprocessing techniques used in data analysis and machine learning, in relation with the variables in some columns.\n",
    "\n",
    "Trabajaremos con algunas técnicas de preprocesamiento de datos utilizada en el análisis de datos y en el aprendizaje automático, en  relación \n",
    "con las variable de algunas columnas.\n",
    "\n",
    "'''"
   ]
  },
  {
   "cell_type": "markdown",
   "id": "57686976",
   "metadata": {},
   "source": [
    "##### Calculating the relative distribution (proportion) of each category in the \"propertyType\" column of the X_train dataset with One Hot Encoding"
   ]
  },
  {
   "cell_type": "code",
   "execution_count": null,
   "id": "dbe62ffc",
   "metadata": {},
   "outputs": [
    {
     "data": {
      "text/plain": [
       "propertyType\n",
       "flat            0.504808\n",
       "chalet          0.405048\n",
       "duplex          0.032452\n",
       "penthouse       0.031250\n",
       "countryHouse    0.020433\n",
       "studio          0.006010\n",
       "Name: proportion, dtype: float64"
      ]
     },
     "execution_count": 68,
     "metadata": {},
     "output_type": "execute_result"
    }
   ],
   "source": [
    "# Calculating the different types of properties (propertyType) in the dataset X_train, expressed as proportions of the total\n",
    "# Calculando los diferentes tipos de propiedades (propertyType) en el dataset X_train, expresada como proporciones del total\n",
    "\n",
    "X_train.propertyType.value_counts(normalize=True)"
   ]
  },
  {
   "cell_type": "code",
   "execution_count": 70,
   "id": "37cb62fc",
   "metadata": {},
   "outputs": [
    {
     "data": {
      "text/plain": [
       "<Axes: ylabel='count'>"
      ]
     },
     "execution_count": 70,
     "metadata": {},
     "output_type": "execute_result"
    },
    {
     "data": {
      "image/png": "[encoded data removed]",
      "text/plain": [
       "<Figure size 640x480 with 1 Axes>"
      ]
     },
     "metadata": {},
     "output_type": "display_data"
    }
   ],
   "source": [
    "# Visualizing the proportion of different types of properties  -> Visualizando la proporción de diferentes tipos de propiedades\n",
    "X_train.propertyType.value_counts().plot.pie()"
   ]
  },
  {
   "cell_type": "code",
   "execution_count": null,
   "id": "b05cc2d7",
   "metadata": {},
   "outputs": [],
   "source": [
    "# one hot encoded\n",
    "one_hot = ['propertyType']"
   ]
  },
  {
   "cell_type": "markdown",
   "id": "441cf5f9",
   "metadata": {},
   "source": [
    "##### Visualizing the distribution of the \"size\" column to filter out excessively high values. Finally, we plan to standardize the data to prepare it for modeling"
   ]
  },
  {
   "cell_type": "code",
   "execution_count": 77,
   "id": "2e48e193",
   "metadata": {},
   "outputs": [
    {
     "data": {
      "image/png": "[encoded data removed]",
      "text/plain": [
       "<Figure size 1500x300 with 1 Axes>"
      ]
     },
     "metadata": {},
     "output_type": "display_data"
    }
   ],
   "source": [
    "X_train.plot(kind=\"box\", y=\"size\",figsize=(15,3),vert=False);"
   ]
  },
  {
   "cell_type": "code",
   "execution_count": 78,
   "id": "446be4bf",
   "metadata": {},
   "outputs": [
    {
     "data": {
      "text/html": [
       "<div>\n",
       "<style scoped>\n",
       "    .dataframe tbody tr th:only-of-type {\n",
       "        vertical-align: middle;\n",
       "    }\n",
       "\n",
       "    .dataframe tbody tr th {\n",
       "        vertical-align: top;\n",
       "    }\n",
       "\n",
       "    .dataframe thead th {\n",
       "        text-align: right;\n",
       "    }\n",
       "</style>\n",
       "<table border=\"1\" class=\"dataframe\">\n",
       "  <thead>\n",
       "    <tr style=\"text-align: right;\">\n",
       "      <th></th>\n",
       "      <th>Unnamed: 0</th>\n",
       "      <th>propertyCode</th>\n",
       "      <th>thumbnail</th>\n",
       "      <th>externalReference</th>\n",
       "      <th>numPhotos</th>\n",
       "      <th>priceInfo</th>\n",
       "      <th>propertyType</th>\n",
       "      <th>operation</th>\n",
       "      <th>size</th>\n",
       "      <th>rooms</th>\n",
       "      <th>...</th>\n",
       "      <th>savedAd</th>\n",
       "      <th>notes</th>\n",
       "      <th>topNewDevelopment</th>\n",
       "      <th>topPlus</th>\n",
       "      <th>floor</th>\n",
       "      <th>exterior</th>\n",
       "      <th>hasLift</th>\n",
       "      <th>parkingSpace</th>\n",
       "      <th>neighborhood</th>\n",
       "      <th>newDevelopmentFinished</th>\n",
       "    </tr>\n",
       "  </thead>\n",
       "  <tbody>\n",
       "    <tr>\n",
       "      <th>3089</th>\n",
       "      <td>39</td>\n",
       "      <td>106402901</td>\n",
       "      <td>https://img4.idealista.com/blur/WEB_LISTING/0/...</td>\n",
       "      <td>11005</td>\n",
       "      <td>163</td>\n",
       "      <td>{'price': {'amount': 700000.0, 'currencySuffix...</td>\n",
       "      <td>chalet</td>\n",
       "      <td>sale</td>\n",
       "      <td>2270.0</td>\n",
       "      <td>15</td>\n",
       "      <td>...</td>\n",
       "      <td>{}</td>\n",
       "      <td>[]</td>\n",
       "      <td>False</td>\n",
       "      <td>False</td>\n",
       "      <td>NaN</td>\n",
       "      <td>NaN</td>\n",
       "      <td>NaN</td>\n",
       "      <td>NaN</td>\n",
       "      <td>NaN</td>\n",
       "      <td>NaN</td>\n",
       "    </tr>\n",
       "  </tbody>\n",
       "</table>\n",
       "<p>1 rows × 44 columns</p>\n",
       "</div>"
      ],
      "text/plain": [
       "      Unnamed: 0  propertyCode  \\\n",
       "3089          39     106402901   \n",
       "\n",
       "                                              thumbnail externalReference  \\\n",
       "3089  https://img4.idealista.com/blur/WEB_LISTING/0/...             11005   \n",
       "\n",
       "      numPhotos                                          priceInfo  \\\n",
       "3089        163  {'price': {'amount': 700000.0, 'currencySuffix...   \n",
       "\n",
       "     propertyType operation    size  rooms  ...  savedAd notes  \\\n",
       "3089       chalet      sale  2270.0     15  ...       {}    []   \n",
       "\n",
       "     topNewDevelopment topPlus floor exterior  hasLift  parkingSpace  \\\n",
       "3089             False   False   NaN      NaN      NaN           NaN   \n",
       "\n",
       "      neighborhood newDevelopmentFinished  \n",
       "3089           NaN                    NaN  \n",
       "\n",
       "[1 rows x 44 columns]"
      ]
     },
     "execution_count": 78,
     "metadata": {},
     "output_type": "execute_result"
    }
   ],
   "source": [
    "X_train.loc[X_train['size'] > 2000]"
   ]
  },
  {
   "cell_type": "code",
   "execution_count": 79,
   "id": "3fcd2387",
   "metadata": {},
   "outputs": [],
   "source": [
    "# StandardScaler\n",
    "escalar = ['size']"
   ]
  },
  {
   "cell_type": "markdown",
   "id": "3e8b002c",
   "metadata": {},
   "source": [
    "##### Visualizing the values of the 'exterior' column, and create a list called 'booleanos', which contains the name of the 'exterior' column. This could probably be useful for applying similar operations to multiple columns, or if we needed to reference columns more flexibly."
   ]
  },
  {
   "cell_type": "code",
   "execution_count": null,
   "id": "d7834ab8",
   "metadata": {},
   "outputs": [
    {
     "data": {
      "text/plain": [
       "exterior\n",
       "False    461\n",
       "True     371\n",
       "Name: count, dtype: int64"
      ]
     },
     "execution_count": 80,
     "metadata": {},
     "output_type": "execute_result"
    }
   ],
   "source": [
    "X_train.exterior.isna().value_counts()  # This means that there are 461 non-null values, and 371 null values ​​in the exterior column."
   ]
  },
  {
   "cell_type": "code",
   "execution_count": 81,
   "id": "98cfbdbc",
   "metadata": {},
   "outputs": [],
   "source": [
    "booleanos = ['exterior']"
   ]
  },
  {
   "cell_type": "code",
   "execution_count": null,
   "id": "627c2831",
   "metadata": {},
   "outputs": [],
   "source": []
  },
  {
   "cell_type": "code",
   "execution_count": null,
   "id": "6abdf9d7",
   "metadata": {},
   "outputs": [],
   "source": []
  }
 ],
 "metadata": {
  "kernelspec": {
   "display_name": "Python 3",
   "language": "python",
   "name": "python3"
  },
  "language_info": {
   "codemirror_mode": {
    "name": "ipython",
    "version": 3
   },
   "file_extension": ".py",
   "mimetype": "text/x-python",
   "name": "python",
   "nbconvert_exporter": "python",
   "pygments_lexer": "ipython3",
   "version": "3.12.6"
  }
 },
 "nbformat": 4,
 "nbformat_minor": 5
}
